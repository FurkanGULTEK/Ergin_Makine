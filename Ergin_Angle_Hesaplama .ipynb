{
  "nbformat": 4,
  "nbformat_minor": 0,
  "metadata": {
    "colab": {
      "name": "Ergin_Angle_Hesaplama.ipynb",
      "provenance": [],
      "collapsed_sections": []
    },
    "kernelspec": {
      "name": "python3",
      "display_name": "Python 3"
    }
  },
  "cells": [
    {
      "cell_type": "code",
      "metadata": {
        "id": "2hd0omMl7zGL"
      },
      "source": [
        "import numpy as np\r\n",
        "import cv2\r\n",
        "import sys\r\n",
        "import yaml\r\n",
        "import os\r\n",
        "import warnings\r\n"
      ],
      "execution_count": null,
      "outputs": []
    },
    {
      "cell_type": "code",
      "metadata": {
        "id": "Xo0copCp708m"
      },
      "source": [
        "cx = 0.0    #cismin x konumu \r\n",
        "cy = 0.0    #cismin y konumu\r\n",
        "angle = 0.0 #Cismin dönüş açısı "
      ],
      "execution_count": null,
      "outputs": []
    },
    {
      "cell_type": "code",
      "metadata": {
        "id": "3eX0tc9S75Pk"
      },
      "source": [
        "if __name__ == \"__main__\":\r\n",
        "    while(1):\r\n",
        "        try:\r\n",
        "            cap = cv2.VideoCapture(0, cv2.CAP_DSHOW)\r\n",
        "   \r\n",
        "            while(1):\r\n",
        "                _,frame = cap.read()\r\n",
        "                k = cv2.waitKey(5)\r\n",
        "                if k == 27: #esc ile çıkış \r\n",
        "                    cv2.destroyAllWindows()\r\n",
        "                    sys.exit()\r\n",
        "                if k == 13: #Verilen ojenin ağırlık merkezi ve açı değerlerini bir dosyaya kaydedin\r\n",
        "                    result_file = r'BTÜ-ERGİN.yaml'    \r\n",
        "                    try:\r\n",
        "                        os.remove(result_file)  #Bir önceki dosyayı siler \r\n",
        "                    except:\r\n",
        "                        pass\r\n",
        "                    print(\"konum matrisi  \",result_file)\r\n",
        "                    data={\"Pozisyon\": [cx,cy,angle]}\r\n",
        "                    with open(result_file, \"w\") as f:\r\n",
        "                        yaml.dump(data, f, default_flow_style=False)\r\n",
        "\r\n",
        "                #Gaussian Filteresi\r\n",
        "                blur = cv2.GaussianBlur(blue_only,(5,5),cv2.BORDER_DEFAULT)\r\n",
        "                #Thresholding\r\n",
        "                ret3,thresh = cv2.threshold(blur,0,255,cv2.THRESH_BINARY+cv2.THRESH_OTSU)\r\n",
        "                cv2.namedWindow('Threshold', cv2.WINDOW_AUTOSIZE)\r\n",
        "                cv2.imshow(\"Threshold\",thresh)\r\n",
        "                cv2.waitKey(1)\r\n",
        "\r\n",
        "                contours,hierarchy = cv2.findContours(thresh,cv2.RETR_TREE,cv2.CHAIN_APPROX_NONE)\r\n",
        "\t\t            #Thresholding\r\n",
        "                ret3,thresh = cv2.threshold(blur,0,255,cv2.THRESH_BINARY+cv2.THRESH_OTSU)\r\n",
        "                cv2.namedWindow('Threshold', cv2.WINDOW_AUTOSIZE)\r\n",
        "                cv2.imshow(\"Threshold\",thresh)\r\n",
        "                cv2.waitKey(1)\r\n",
        "\t\t\r\n",
        "\t\t\r\n",
        "\t\t            if(width > height):\r\n",
        "                    angle = angle+180\r\n",
        "                else:\r\n",
        "                    angle = angle+90\r\n",
        "                print(\"Ergin\\n\", angle)\r\n",
        "              \r\n",
        "                im = cv2.drawContours(frame,[cnt],0,(0,0,255),2)                \r\n",
        "                cv2.circle(im, (cx,cy), 2,(200, 255, 0),2) \r\n",
        "                cv2.putText(im, str(\"Açı: \"+str(int(angle))), (int(cx)-40, int(cy)+60), cv2.FONT_HERSHEY_SIMPLEX, 0.5, (0,0,255), 1, cv2.LINE_AA)\r\n",
        "                cv2.putText(im, str(\"C: \"+str(cx)+\",\"+str(cy)), (int(cx)-40, int(cy)-50), cv2.FONT_HERSHEY_SIMPLEX, 0.5, (0,0,255), 1, cv2.LINE_AA)\r\n",
        "                cv2.namedWindow('B', cv2.WINDOW_AUTOSIZE)\r\n",
        "                cv2.imshow('A',im)\r\n",
        "                cv2.waitKey(1)\r\n",
        "\r\n",
        "        except Exception as e:\r\n",
        "            print(\"Hata\",e)\r\n",
        "            cv2.destroyAllWindows()\r\n",
        "            sys.exit()\r\n",
        "    \r\n",
        "   cv2.destroyAllWindows()"
      ],
      "execution_count": null,
      "outputs": []
    }
  ]
}
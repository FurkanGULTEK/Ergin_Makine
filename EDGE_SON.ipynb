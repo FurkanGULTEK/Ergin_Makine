{
  "nbformat": 4,
  "nbformat_minor": 0,
  "metadata": {
    "colab": {
      "name": "EDGE SON.ipynb",
      "provenance": []
    },
    "kernelspec": {
      "name": "python3",
      "display_name": "Python 3"
    }
  },
  "cells": [
    {
      "cell_type": "code",
      "metadata": {
        "id": "nz4aJOAVdadu"
      },
      "source": [
        "import numpy as np\r\n",
        "import argparse\r\n",
        "import imutils\r\n",
        "import cv2"
      ],
      "execution_count": null,
      "outputs": []
    },
    {
      "cell_type": "code",
      "metadata": {
        "id": "G9U5BuDcdmCT"
      },
      "source": [
        "image = cv2.imread(\"PATH\")\r\n",
        "ratio = image.shape[0] / 300.0\r\n",
        "orig = image.copy()\r\n",
        "image = imutils.resize(image, height = 300)"
      ],
      "execution_count": null,
      "outputs": []
    },
    {
      "cell_type": "code",
      "metadata": {
        "id": "_b1FSjASeVfY"
      },
      "source": [
        "gray = cv2.cvtColor(image, cv2.COLOR_BGR2GRAY)\r\n",
        "gray = cv2.bilateralFilter(gray, 11, 17, 17)\r\n",
        "edged = cv2.Canny(gray, 30, 200)\r\n"
      ],
      "execution_count": null,
      "outputs": []
    },
    {
      "cell_type": "code",
      "metadata": {
        "id": "zQOWSFw8eYb2"
      },
      "source": [
        "cnts = cv2.findContours(edged.copy(), cv2.RETR_TREE, cv2.CHAIN_APPROX_SIMPLE)\r\n",
        "cnts = imutils.grab_contours(cnts)\r\n",
        "cnts = sorted(cnts, key = cv2.contourArea, reverse = True)[:10]\r\n",
        "screenCnt = None"
      ],
      "execution_count": null,
      "outputs": []
    },
    {
      "cell_type": "code",
      "metadata": {
        "id": "z9fYvOFWeaZh"
      },
      "source": [
        "for c in cnts:\r\n",
        "\tperi = cv2.arcLength(c, True)\r\n",
        "\tapprox = cv2.approxPolyDP(c, 0.015 * peri, True)\r\n",
        "\tif len(approx) == 4:\r\n",
        "\t\tscreenCnt = approx\r\n",
        "\t\tbreak\r\n",
        "cv2.drawContours(image, [screenCnt], -1, (0, 255, 0), 3)\r\n",
        "cv2.imshow(\"BTÜ EEM\", image)\r\n",
        "cv2.waitKey(0)"
      ],
      "execution_count": null,
      "outputs": []
    }
  ]
}